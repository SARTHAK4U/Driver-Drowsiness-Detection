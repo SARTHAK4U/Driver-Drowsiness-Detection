{
  "nbformat": 4,
  "nbformat_minor": 0,
  "metadata": {
    "colab": {
      "name": "RatingAnalysis",
      "provenance": [],
      "collapsed_sections": []
    },
    "kernelspec": {
      "name": "python3",
      "display_name": "Python 3"
    }
  },
  "cells": [
    {
      "cell_type": "code",
      "metadata": {
        "id": "Zd5XX7GTcEhq"
      },
      "source": [
        "import pandas as pd"
      ],
      "execution_count": 60,
      "outputs": []
    },
    {
      "cell_type": "code",
      "metadata": {
        "id": "T4a9nQ6Qcvcm"
      },
      "source": [
        "df = pd.read_csv(\"Record.csv\")"
      ],
      "execution_count": 61,
      "outputs": []
    },
    {
      "cell_type": "code",
      "metadata": {
        "id": "Jfyv_lWzc_Tz",
        "outputId": "6d30f755-09eb-4654-ff61-16e803bb51d5",
        "colab": {
          "base_uri": "https://localhost:8080/"
        }
      },
      "source": [
        "print(df[['Name','Average Drowsiness Count','Average Yawn Count']])\n"
      ],
      "execution_count": 62,
      "outputs": [
        {
          "output_type": "stream",
          "text": [
            "      Name  Average Drowsiness Count  Average Yawn Count\n",
            "0     Yash                         0                   1\n",
            "1   Rishit                         1                   1\n",
            "2      sam                         1                   2\n",
            "3      sue                         2                   3\n",
            "4      sam                        31                   4\n",
            "5      sue                         2                   5\n",
            "6     amar                         3                   1\n",
            "7    rahul                        21                   3\n",
            "8     amar                         7                   4\n",
            "9    rahil                         6                   1\n",
            "10   sahil                         0                  23\n",
            "11   rahul                         1                   4\n",
            "12     sam                         1                  12\n",
            "13   rahil                         6                   2\n"
          ],
          "name": "stdout"
        }
      ]
    },
    {
      "cell_type": "code",
      "metadata": {
        "id": "kvatiiaQf_J1",
        "outputId": "f9d9ecdd-13d2-4d06-eb1c-35f31f8817ea",
        "colab": {
          "base_uri": "https://localhost:8080/"
        }
      },
      "source": [
        "df = df.groupby('Name', as_index=False).agg({'Average Drowsiness Count':'mean', 'Average Yawn Count':'mean'}).reset_index()\n",
        "print(df[['Name','Average Drowsiness Count','Average Yawn Count']])\n"
      ],
      "execution_count": 63,
      "outputs": [
        {
          "output_type": "stream",
          "text": [
            "     Name  Average Drowsiness Count  Average Yawn Count\n",
            "0  Rishit                         1                 1.0\n",
            "1    Yash                         0                 1.0\n",
            "2    amar                         5                 2.5\n",
            "3   rahil                         6                 1.5\n",
            "4   rahul                        11                 3.5\n",
            "5   sahil                         0                23.0\n",
            "6     sam                        11                 6.0\n",
            "7     sue                         2                 4.0\n"
          ],
          "name": "stdout"
        }
      ]
    },
    {
      "cell_type": "markdown",
      "metadata": {
        "id": "HtSNuBeVl9z5"
      },
      "source": [
        "# **FORMULA FOR RATING**\n",
        "\n",
        "(3.5 x Average Drowsiness Count+1.5 x Average Yawn Count)"
      ]
    },
    {
      "cell_type": "code",
      "metadata": {
        "id": "cnDtrHZwoPkq"
      },
      "source": [
        "a=df[\"Average Drowsiness Count\"]\n",
        "b=df[\"Average Yawn Count\"]"
      ],
      "execution_count": 88,
      "outputs": []
    },
    {
      "cell_type": "code",
      "metadata": {
        "id": "NkX5zpCCl0-J",
        "outputId": "21ecdb49-7d0b-4a11-89f7-90c60071eac6",
        "colab": {
          "base_uri": "https://localhost:8080/"
        }
      },
      "source": [
        "sum_column =(3.5*a+ 1.5*b)\n",
        "print(sum_column)"
      ],
      "execution_count": 96,
      "outputs": [
        {
          "output_type": "stream",
          "text": [
            "0     5.00\n",
            "1     1.50\n",
            "2    21.25\n",
            "3    23.25\n",
            "4    43.75\n",
            "5    34.50\n",
            "6    47.50\n",
            "7    13.00\n",
            "dtype: float64\n"
          ],
          "name": "stdout"
        }
      ]
    },
    {
      "cell_type": "code",
      "metadata": {
        "id": "wifaxUIkqKWD"
      },
      "source": [
        "import matplotlib.pyplot as plt "
      ],
      "execution_count": 97,
      "outputs": []
    },
    {
      "cell_type": "code",
      "metadata": {
        "id": "vOqrck1NqK-M",
        "outputId": "e3b28679-2720-4650-f66e-95436212ff6d",
        "colab": {
          "base_uri": "https://localhost:8080/",
          "height": 295
        }
      },
      "source": [
        "plt.stem(df[\"Name\"],sum_column,use_line_collection=True)\n",
        "plt.xlabel('NAME OF DRIVER') \n",
        "plt.ylabel('RATING') \n",
        "plt.title('ANALYSIS') \n",
        "plt.grid(True)\n",
        "plt.savefig('RATINGS.png')\n",
        "plt.show() \n"
      ],
      "execution_count": 120,
      "outputs": [
        {
          "output_type": "display_data",
          "data": {
            "image/png": "[encoded data removed]",
            "text/plain": [
              "<Figure size 432x288 with 1 Axes>"
            ]
          },
          "metadata": {
            "tags": [],
            "needs_background": "light"
          }
        }
      ]
    },
    {
      "cell_type": "markdown",
      "metadata": {
        "id": "OSQgx-iXq4zV"
      },
      "source": [
        "# PICKING BEST DRIVER"
      ]
    },
    {
      "cell_type": "code",
      "metadata": {
        "id": "MeUfvO0Pq4QW"
      },
      "source": [
        "min=60000\n",
        "pos=0\n",
        "count=0\n",
        "for x in sum_column:\n",
        "  if x<min:\n",
        "    min=x\n",
        "    pos=count\n",
        "  count+=1\n"
      ],
      "execution_count": 111,
      "outputs": []
    },
    {
      "cell_type": "code",
      "metadata": {
        "id": "CpKLtKpJrT4b",
        "outputId": "d1012aa3-c97f-4fcd-8e75-ce5c257bea57",
        "colab": {
          "base_uri": "https://localhost:8080/"
        }
      },
      "source": [
        "print('CURRENT BEST DRIVER IS :')\n",
        "print(df['Name'].iloc[pos])\n",
        "print(\"RATING IS : \"+str(sum_column[pos]))"
      ],
      "execution_count": 117,
      "outputs": [
        {
          "output_type": "stream",
          "text": [
            "CURRENT BEST DRIVER IS :\n",
            "Yash\n",
            "RATING IS : 1.5\n"
          ],
          "name": "stdout"
        }
      ]
    }
  ]
}